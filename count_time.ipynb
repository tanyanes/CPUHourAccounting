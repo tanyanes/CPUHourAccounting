{
 "cells": [
  {
   "cell_type": "markdown",
   "id": "81582caa",
   "metadata": {},
   "source": [
    "# Script to keep account of core hours used in SLURM"
   ]
  },
  {
   "cell_type": "markdown",
   "id": "6799afd1",
   "metadata": {},
   "source": [
    "It is possible to output how many CPU hours each job takes up on Rockfish by entering the following \n",
    "command into command line:\n",
    "\n",
    "sacct --starttime 2022-06-01 --\n",
    "format=User,JobID,Jobname,partition,state,time,start,end,elapsed,MaxRss,MaxVMSize,nnodes,ncpus,n\n",
    "odelist > hours_used.txt\n",
    "\n",
    "This command will produce an output file titles hours_used.txt that will look show all processes ran after starting date 2022-06-01."
   ]
  },
  {
   "cell_type": "markdown",
   "id": "bf6bd54e",
   "metadata": {},
   "source": [
    "## Calculate total CPU hours used"
   ]
  },
  {
   "cell_type": "code",
   "execution_count": 1,
   "id": "5a3c015e",
   "metadata": {},
   "outputs": [
    {
     "name": "stdout",
     "output_type": "stream",
     "text": [
      "You have used 119592.7344444443 CPU hours since 2022-06-02\n"
     ]
    }
   ],
   "source": [
    "import matplotlib.pyplot as plt\n",
    "import numpy as np\n",
    "import datetime\n",
    "\n",
    "plt.rcParams.update({'font.size': 10})\n",
    "\n",
    "file = 'hours_used.txt'\n",
    "\n",
    "f = open(file,\"r\")\n",
    "content = f.read()\n",
    "lines = content.splitlines()\n",
    "f.close()\n",
    "\n",
    "float_list = []\n",
    "\n",
    "time_list = []\n",
    "cpu_list = []\n",
    "start_date = ''\n",
    "\n",
    "for i in range(1,len(lines)):\n",
    "    words = lines[i].split()\n",
    "    if i == 2:\n",
    "        start_date = words[6]\n",
    "    if(i % 2 == 0):\n",
    "        if(words[4] == 'COMPLETED'):\n",
    "            time_list.append(words[8])\n",
    "            cpu_list.append(int(words[10]))\n",
    "                      \n",
    "cpu_hours = 0\n",
    "for j in range(len(time_list)):\n",
    "    i = time_list[j]\n",
    "    (h, m, s) = i.split(':')\n",
    "    d = datetime.timedelta(hours=int(h), minutes=int(m), seconds=int(s))\n",
    "    \n",
    "    duration = d\n",
    "    days, seconds = duration.days, duration.seconds\n",
    "    hours = days * 24 + seconds // 3600\n",
    "    minutes = (seconds % 3600) // 60\n",
    "    seconds = seconds % 60\n",
    "    \n",
    "    total_hours = hours + (minutes/60) + (seconds/3600)\n",
    "    cpu_hours += total_hours*cpu_list[j]\n",
    "\n",
    "print(\"You have used\", cpu_hours, \"CPU hours since\", start_date[0:10])"
   ]
  },
  {
   "cell_type": "markdown",
   "id": "a3dea9d5",
   "metadata": {},
   "source": [
    "## Plotting CPU hours used every day since start time"
   ]
  },
  {
   "cell_type": "code",
   "execution_count": 2,
   "id": "51009813",
   "metadata": {},
   "outputs": [
    {
     "data": {
      "text/plain": [
       "Text(0, 0.5, 'CPU hours used')"
      ]
     },
     "execution_count": 2,
     "metadata": {},
     "output_type": "execute_result"
    },
    {
     "data": {
      "image/png": "[encoded data removed]",
      "text/plain": [
       "<Figure size 432x288 with 1 Axes>"
      ]
     },
     "metadata": {
      "needs_background": "light"
     },
     "output_type": "display_data"
    }
   ],
   "source": [
    "n = 1\n",
    "\n",
    "f = open(file,\"r\")\n",
    "content = f.read()\n",
    "lines = content.splitlines()\n",
    "f.close()\n",
    "\n",
    "float_list = []\n",
    "\n",
    "time_list = []\n",
    "cpu_list = []\n",
    "start_date = ''\n",
    "\n",
    "orig = 0\n",
    "days_since = 0\n",
    "\n",
    "time_list_a = []\n",
    "cpu_list_a = []\n",
    "date_list = []\n",
    "\n",
    "for i in range(1,len(lines)):\n",
    "    #if(i % 2 == 0):\n",
    "    words = lines[i].split()\n",
    "    if(words[4] == 'COMPLETED'):\n",
    "        date = words[6]\n",
    "        day = int(date[8:10])\n",
    "        if(orig == 0):\n",
    "            orig = day\n",
    "        days_since = day - orig\n",
    "\n",
    "        if(days_since < n):\n",
    "            time_list_a.append(words[8])\n",
    "            cpu_list_a.append(int(words[10]))\n",
    "        else:\n",
    "            date_list.append(date[0:10])\n",
    "            time_list.append(time_list_a)\n",
    "            cpu_list.append(cpu_list_a)\n",
    "            time_list_a = []\n",
    "            cpu_list_a = []\n",
    "            time_list_a.append(words[8])\n",
    "            cpu_list_a.append(float(words[10]))\n",
    "            orig = 0\n",
    "                \n",
    "cpu_hours = []\n",
    "for k in range(len(time_list)):\n",
    "    time_list_temp = time_list[k]\n",
    "    cpu_list_temp = cpu_list[k]\n",
    "    cpu_hours_temp = 0\n",
    "    for j in range(len(time_list_temp)):\n",
    "        i = time_list_temp[j]\n",
    "        (h, m, s) = i.split(':')\n",
    "        d = datetime.timedelta(hours=int(h), minutes=int(m), seconds=int(s))\n",
    "\n",
    "        duration = d\n",
    "        days, seconds = duration.days, duration.seconds\n",
    "        hours = days * 24 + seconds // 3600\n",
    "        minutes = (seconds % 3600) // 60\n",
    "        seconds = seconds % 60\n",
    "\n",
    "        total_hours = hours + (minutes/60) + (seconds/3600)\n",
    "        cpu_hours_temp += total_hours*cpu_list_temp[j]\n",
    "    cpu_hours.append(cpu_hours_temp)\n",
    "    \n",
    "plt.bar(np.linspace(1,len(time_list),len(time_list)),cpu_hours,color='teal')\n",
    "plt.xlabel('Hours used every day')\n",
    "plt.ylabel('CPU hours used')"
   ]
  },
  {
   "cell_type": "markdown",
   "id": "b1cf71e3",
   "metadata": {},
   "source": [
    "## Calendar plot of daily usage"
   ]
  },
  {
   "cell_type": "markdown",
   "id": "8f3abadc",
   "metadata": {},
   "source": [
    "A neatly organized qualitative way to look at daily usage "
   ]
  },
  {
   "cell_type": "code",
   "execution_count": 3,
   "id": "dbe73bfe",
   "metadata": {},
   "outputs": [
    {
     "data": {
      "text/plain": [
       "<AxesSubplot:>"
      ]
     },
     "execution_count": 3,
     "metadata": {},
     "output_type": "execute_result"
    },
    {
     "data": {
      "image/png": "[encoded data removed]",
      "text/plain": [
       "<Figure size 1200x1200 with 1 Axes>"
      ]
     },
     "metadata": {
      "needs_background": "light"
     },
     "output_type": "display_data"
    }
   ],
   "source": [
    "import numpy as np; np.random.seed(sum(map(ord, 'calmap')))\n",
    "import pandas as pd\n",
    "import calmap\n",
    "from matplotlib.pyplot import figure\n",
    "\n",
    "times = []\n",
    "for i in range(len(date_list)):\n",
    "    times.append(np.datetime64(date_list[i]))\n",
    "dti = pd.to_datetime(times)\n",
    "\n",
    "events = pd.Series(cpu_hours,dti)\n",
    "\n",
    "figure(figsize=(8, 8), dpi=150)\n",
    "calmap.yearplot(events, year=2022)"
   ]
  },
  {
   "cell_type": "code",
   "execution_count": null,
   "id": "7b4afa96",
   "metadata": {},
   "outputs": [],
   "source": []
  }
 ],
 "metadata": {
  "kernelspec": {
   "display_name": "Python 3 (ipykernel)",
   "language": "python",
   "name": "python3"
  },
  "language_info": {
   "codemirror_mode": {
    "name": "ipython",
    "version": 3
   },
   "file_extension": ".py",
   "mimetype": "text/x-python",
   "name": "python",
   "nbconvert_exporter": "python",
   "pygments_lexer": "ipython3",
   "version": "3.8.10"
  }
 },
 "nbformat": 4,
 "nbformat_minor": 5
}
